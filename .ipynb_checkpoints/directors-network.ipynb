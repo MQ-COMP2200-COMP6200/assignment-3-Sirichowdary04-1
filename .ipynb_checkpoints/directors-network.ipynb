{
 "cells": [
  {
   "cell_type": "markdown",
   "id": "783d5f3c-d497-4f2f-bc46-74b79c268232",
   "metadata": {},
   "source": [
    "# COMP2200/COMP6200 Assignment 3\n",
    "\n",
    "## Goal of the Project\n",
    "\n",
    "We are identifying the most influential company directors based on real U.S. SEC DEF 14A data. The aim is to help a venture capital fund identify people who could help their portfolio company get acquired by a wealthy U.S. company.\n",
    "\n",
    "This notebook builds on the one left by the previous data scientist.\n"
   ]
  },
  {
   "cell_type": "code",
   "execution_count": 60,
   "id": "28799a07-af91-44d1-8784-47d0ad2250ce",
   "metadata": {},
   "outputs": [],
   "source": [
    "import pandas\n",
    "import math"
   ]
  },
  {
   "cell_type": "code",
   "execution_count": 62,
   "id": "59b4f077-bb53-4a6d-b193-fc3fd107ec77",
   "metadata": {},
   "outputs": [
    {
     "ename": "FileNotFoundError",
     "evalue": "[Errno 2] No such file or directory: 'forbes_2022.csv'",
     "output_type": "error",
     "traceback": [
      "\u001b[1;31m---------------------------------------------------------------------------\u001b[0m",
      "\u001b[1;31mFileNotFoundError\u001b[0m                         Traceback (most recent call last)",
      "Cell \u001b[1;32mIn[62], line 7\u001b[0m\n\u001b[0;32m      4\u001b[0m \u001b[38;5;28;01mimport\u001b[39;00m \u001b[38;5;21;01mpandas\u001b[39;00m \u001b[38;5;28;01mas\u001b[39;00m \u001b[38;5;21;01mpd\u001b[39;00m\n\u001b[0;32m      6\u001b[0m \u001b[38;5;66;03m# Load the Forbes dataset\u001b[39;00m\n\u001b[1;32m----> 7\u001b[0m forbes \u001b[38;5;241m=\u001b[39m pd\u001b[38;5;241m.\u001b[39mread_csv(\u001b[38;5;124m\"\u001b[39m\u001b[38;5;124mforbes_2022.csv\u001b[39m\u001b[38;5;124m\"\u001b[39m)  \u001b[38;5;66;03m# Or your original filename if you didn't rename it\u001b[39;00m\n\u001b[0;32m      9\u001b[0m \u001b[38;5;66;03m# Preview it\u001b[39;00m\n\u001b[0;32m     10\u001b[0m forbes\u001b[38;5;241m.\u001b[39mhead()\n",
      "File \u001b[1;32m~\\anaconda3\\Lib\\site-packages\\pandas\\io\\parsers\\readers.py:1026\u001b[0m, in \u001b[0;36mread_csv\u001b[1;34m(filepath_or_buffer, sep, delimiter, header, names, index_col, usecols, dtype, engine, converters, true_values, false_values, skipinitialspace, skiprows, skipfooter, nrows, na_values, keep_default_na, na_filter, verbose, skip_blank_lines, parse_dates, infer_datetime_format, keep_date_col, date_parser, date_format, dayfirst, cache_dates, iterator, chunksize, compression, thousands, decimal, lineterminator, quotechar, quoting, doublequote, escapechar, comment, encoding, encoding_errors, dialect, on_bad_lines, delim_whitespace, low_memory, memory_map, float_precision, storage_options, dtype_backend)\u001b[0m\n\u001b[0;32m   1013\u001b[0m kwds_defaults \u001b[38;5;241m=\u001b[39m _refine_defaults_read(\n\u001b[0;32m   1014\u001b[0m     dialect,\n\u001b[0;32m   1015\u001b[0m     delimiter,\n\u001b[1;32m   (...)\u001b[0m\n\u001b[0;32m   1022\u001b[0m     dtype_backend\u001b[38;5;241m=\u001b[39mdtype_backend,\n\u001b[0;32m   1023\u001b[0m )\n\u001b[0;32m   1024\u001b[0m kwds\u001b[38;5;241m.\u001b[39mupdate(kwds_defaults)\n\u001b[1;32m-> 1026\u001b[0m \u001b[38;5;28;01mreturn\u001b[39;00m _read(filepath_or_buffer, kwds)\n",
      "File \u001b[1;32m~\\anaconda3\\Lib\\site-packages\\pandas\\io\\parsers\\readers.py:620\u001b[0m, in \u001b[0;36m_read\u001b[1;34m(filepath_or_buffer, kwds)\u001b[0m\n\u001b[0;32m    617\u001b[0m _validate_names(kwds\u001b[38;5;241m.\u001b[39mget(\u001b[38;5;124m\"\u001b[39m\u001b[38;5;124mnames\u001b[39m\u001b[38;5;124m\"\u001b[39m, \u001b[38;5;28;01mNone\u001b[39;00m))\n\u001b[0;32m    619\u001b[0m \u001b[38;5;66;03m# Create the parser.\u001b[39;00m\n\u001b[1;32m--> 620\u001b[0m parser \u001b[38;5;241m=\u001b[39m TextFileReader(filepath_or_buffer, \u001b[38;5;241m*\u001b[39m\u001b[38;5;241m*\u001b[39mkwds)\n\u001b[0;32m    622\u001b[0m \u001b[38;5;28;01mif\u001b[39;00m chunksize \u001b[38;5;129;01mor\u001b[39;00m iterator:\n\u001b[0;32m    623\u001b[0m     \u001b[38;5;28;01mreturn\u001b[39;00m parser\n",
      "File \u001b[1;32m~\\anaconda3\\Lib\\site-packages\\pandas\\io\\parsers\\readers.py:1620\u001b[0m, in \u001b[0;36mTextFileReader.__init__\u001b[1;34m(self, f, engine, **kwds)\u001b[0m\n\u001b[0;32m   1617\u001b[0m     \u001b[38;5;28mself\u001b[39m\u001b[38;5;241m.\u001b[39moptions[\u001b[38;5;124m\"\u001b[39m\u001b[38;5;124mhas_index_names\u001b[39m\u001b[38;5;124m\"\u001b[39m] \u001b[38;5;241m=\u001b[39m kwds[\u001b[38;5;124m\"\u001b[39m\u001b[38;5;124mhas_index_names\u001b[39m\u001b[38;5;124m\"\u001b[39m]\n\u001b[0;32m   1619\u001b[0m \u001b[38;5;28mself\u001b[39m\u001b[38;5;241m.\u001b[39mhandles: IOHandles \u001b[38;5;241m|\u001b[39m \u001b[38;5;28;01mNone\u001b[39;00m \u001b[38;5;241m=\u001b[39m \u001b[38;5;28;01mNone\u001b[39;00m\n\u001b[1;32m-> 1620\u001b[0m \u001b[38;5;28mself\u001b[39m\u001b[38;5;241m.\u001b[39m_engine \u001b[38;5;241m=\u001b[39m \u001b[38;5;28mself\u001b[39m\u001b[38;5;241m.\u001b[39m_make_engine(f, \u001b[38;5;28mself\u001b[39m\u001b[38;5;241m.\u001b[39mengine)\n",
      "File \u001b[1;32m~\\anaconda3\\Lib\\site-packages\\pandas\\io\\parsers\\readers.py:1880\u001b[0m, in \u001b[0;36mTextFileReader._make_engine\u001b[1;34m(self, f, engine)\u001b[0m\n\u001b[0;32m   1878\u001b[0m     \u001b[38;5;28;01mif\u001b[39;00m \u001b[38;5;124m\"\u001b[39m\u001b[38;5;124mb\u001b[39m\u001b[38;5;124m\"\u001b[39m \u001b[38;5;129;01mnot\u001b[39;00m \u001b[38;5;129;01min\u001b[39;00m mode:\n\u001b[0;32m   1879\u001b[0m         mode \u001b[38;5;241m+\u001b[39m\u001b[38;5;241m=\u001b[39m \u001b[38;5;124m\"\u001b[39m\u001b[38;5;124mb\u001b[39m\u001b[38;5;124m\"\u001b[39m\n\u001b[1;32m-> 1880\u001b[0m \u001b[38;5;28mself\u001b[39m\u001b[38;5;241m.\u001b[39mhandles \u001b[38;5;241m=\u001b[39m get_handle(\n\u001b[0;32m   1881\u001b[0m     f,\n\u001b[0;32m   1882\u001b[0m     mode,\n\u001b[0;32m   1883\u001b[0m     encoding\u001b[38;5;241m=\u001b[39m\u001b[38;5;28mself\u001b[39m\u001b[38;5;241m.\u001b[39moptions\u001b[38;5;241m.\u001b[39mget(\u001b[38;5;124m\"\u001b[39m\u001b[38;5;124mencoding\u001b[39m\u001b[38;5;124m\"\u001b[39m, \u001b[38;5;28;01mNone\u001b[39;00m),\n\u001b[0;32m   1884\u001b[0m     compression\u001b[38;5;241m=\u001b[39m\u001b[38;5;28mself\u001b[39m\u001b[38;5;241m.\u001b[39moptions\u001b[38;5;241m.\u001b[39mget(\u001b[38;5;124m\"\u001b[39m\u001b[38;5;124mcompression\u001b[39m\u001b[38;5;124m\"\u001b[39m, \u001b[38;5;28;01mNone\u001b[39;00m),\n\u001b[0;32m   1885\u001b[0m     memory_map\u001b[38;5;241m=\u001b[39m\u001b[38;5;28mself\u001b[39m\u001b[38;5;241m.\u001b[39moptions\u001b[38;5;241m.\u001b[39mget(\u001b[38;5;124m\"\u001b[39m\u001b[38;5;124mmemory_map\u001b[39m\u001b[38;5;124m\"\u001b[39m, \u001b[38;5;28;01mFalse\u001b[39;00m),\n\u001b[0;32m   1886\u001b[0m     is_text\u001b[38;5;241m=\u001b[39mis_text,\n\u001b[0;32m   1887\u001b[0m     errors\u001b[38;5;241m=\u001b[39m\u001b[38;5;28mself\u001b[39m\u001b[38;5;241m.\u001b[39moptions\u001b[38;5;241m.\u001b[39mget(\u001b[38;5;124m\"\u001b[39m\u001b[38;5;124mencoding_errors\u001b[39m\u001b[38;5;124m\"\u001b[39m, \u001b[38;5;124m\"\u001b[39m\u001b[38;5;124mstrict\u001b[39m\u001b[38;5;124m\"\u001b[39m),\n\u001b[0;32m   1888\u001b[0m     storage_options\u001b[38;5;241m=\u001b[39m\u001b[38;5;28mself\u001b[39m\u001b[38;5;241m.\u001b[39moptions\u001b[38;5;241m.\u001b[39mget(\u001b[38;5;124m\"\u001b[39m\u001b[38;5;124mstorage_options\u001b[39m\u001b[38;5;124m\"\u001b[39m, \u001b[38;5;28;01mNone\u001b[39;00m),\n\u001b[0;32m   1889\u001b[0m )\n\u001b[0;32m   1890\u001b[0m \u001b[38;5;28;01massert\u001b[39;00m \u001b[38;5;28mself\u001b[39m\u001b[38;5;241m.\u001b[39mhandles \u001b[38;5;129;01mis\u001b[39;00m \u001b[38;5;129;01mnot\u001b[39;00m \u001b[38;5;28;01mNone\u001b[39;00m\n\u001b[0;32m   1891\u001b[0m f \u001b[38;5;241m=\u001b[39m \u001b[38;5;28mself\u001b[39m\u001b[38;5;241m.\u001b[39mhandles\u001b[38;5;241m.\u001b[39mhandle\n",
      "File \u001b[1;32m~\\anaconda3\\Lib\\site-packages\\pandas\\io\\common.py:873\u001b[0m, in \u001b[0;36mget_handle\u001b[1;34m(path_or_buf, mode, encoding, compression, memory_map, is_text, errors, storage_options)\u001b[0m\n\u001b[0;32m    868\u001b[0m \u001b[38;5;28;01melif\u001b[39;00m \u001b[38;5;28misinstance\u001b[39m(handle, \u001b[38;5;28mstr\u001b[39m):\n\u001b[0;32m    869\u001b[0m     \u001b[38;5;66;03m# Check whether the filename is to be opened in binary mode.\u001b[39;00m\n\u001b[0;32m    870\u001b[0m     \u001b[38;5;66;03m# Binary mode does not support 'encoding' and 'newline'.\u001b[39;00m\n\u001b[0;32m    871\u001b[0m     \u001b[38;5;28;01mif\u001b[39;00m ioargs\u001b[38;5;241m.\u001b[39mencoding \u001b[38;5;129;01mand\u001b[39;00m \u001b[38;5;124m\"\u001b[39m\u001b[38;5;124mb\u001b[39m\u001b[38;5;124m\"\u001b[39m \u001b[38;5;129;01mnot\u001b[39;00m \u001b[38;5;129;01min\u001b[39;00m ioargs\u001b[38;5;241m.\u001b[39mmode:\n\u001b[0;32m    872\u001b[0m         \u001b[38;5;66;03m# Encoding\u001b[39;00m\n\u001b[1;32m--> 873\u001b[0m         handle \u001b[38;5;241m=\u001b[39m \u001b[38;5;28mopen\u001b[39m(\n\u001b[0;32m    874\u001b[0m             handle,\n\u001b[0;32m    875\u001b[0m             ioargs\u001b[38;5;241m.\u001b[39mmode,\n\u001b[0;32m    876\u001b[0m             encoding\u001b[38;5;241m=\u001b[39mioargs\u001b[38;5;241m.\u001b[39mencoding,\n\u001b[0;32m    877\u001b[0m             errors\u001b[38;5;241m=\u001b[39merrors,\n\u001b[0;32m    878\u001b[0m             newline\u001b[38;5;241m=\u001b[39m\u001b[38;5;124m\"\u001b[39m\u001b[38;5;124m\"\u001b[39m,\n\u001b[0;32m    879\u001b[0m         )\n\u001b[0;32m    880\u001b[0m     \u001b[38;5;28;01melse\u001b[39;00m:\n\u001b[0;32m    881\u001b[0m         \u001b[38;5;66;03m# Binary mode\u001b[39;00m\n\u001b[0;32m    882\u001b[0m         handle \u001b[38;5;241m=\u001b[39m \u001b[38;5;28mopen\u001b[39m(handle, ioargs\u001b[38;5;241m.\u001b[39mmode)\n",
      "\u001b[1;31mFileNotFoundError\u001b[0m: [Errno 2] No such file or directory: 'forbes_2022.csv'"
     ]
    }
   ],
   "source": [
    "df = pandas.read_csv('company_directorships.csv')\n",
    "df.software_background = df.software_background.map(lambda x: x == 't')\n",
    "df.sample(5)\n",
    "import pandas as pd\n",
    "\n",
    "# Load the Forbes dataset\n",
    "forbes = pd.read_csv(\"forbes_2022.csv\")  # Or your original filename if you didn't rename it\n",
    "\n",
    "# Preview it\n",
    "forbes.head()\n"
   ]
  },
  {
   "cell_type": "code",
   "execution_count": 6,
   "id": "85988c0b-40e6-48fc-95df-e39f0432adb4",
   "metadata": {},
   "outputs": [
    {
     "data": {
      "text/html": [
       "<div>\n",
       "<style scoped>\n",
       "    .dataframe tbody tr th:only-of-type {\n",
       "        vertical-align: middle;\n",
       "    }\n",
       "\n",
       "    .dataframe tbody tr th {\n",
       "        vertical-align: top;\n",
       "    }\n",
       "\n",
       "    .dataframe thead th {\n",
       "        text-align: right;\n",
       "    }\n",
       "</style>\n",
       "<table border=\"1\" class=\"dataframe\">\n",
       "  <thead>\n",
       "    <tr style=\"text-align: right;\">\n",
       "      <th></th>\n",
       "      <th>age</th>\n",
       "      <th>compensation</th>\n",
       "      <th>gender</th>\n",
       "      <th>log_compensation</th>\n",
       "    </tr>\n",
       "    <tr>\n",
       "      <th>NAME</th>\n",
       "      <th></th>\n",
       "      <th></th>\n",
       "      <th></th>\n",
       "      <th></th>\n",
       "    </tr>\n",
       "  </thead>\n",
       "  <tbody>\n",
       "    <tr>\n",
       "      <th>A. CATHERINE NGO</th>\n",
       "      <td>64</td>\n",
       "      <td>1006154</td>\n",
       "      <td>female</td>\n",
       "      <td>6.002665</td>\n",
       "    </tr>\n",
       "    <tr>\n",
       "      <th>A. EUGENE WASHINGTON</th>\n",
       "      <td>70</td>\n",
       "      <td>324871</td>\n",
       "      <td>male</td>\n",
       "      <td>5.511712</td>\n",
       "    </tr>\n",
       "    <tr>\n",
       "      <th>A. F. PETROCELLI</th>\n",
       "      <td>80</td>\n",
       "      <td>47000</td>\n",
       "      <td>male</td>\n",
       "      <td>4.672107</td>\n",
       "    </tr>\n",
       "    <tr>\n",
       "      <th>A. FARAZ ABBASI</th>\n",
       "      <td>52</td>\n",
       "      <td>113631</td>\n",
       "      <td>male</td>\n",
       "      <td>5.055501</td>\n",
       "    </tr>\n",
       "    <tr>\n",
       "      <th>A. LARRY CHAPMAN</th>\n",
       "      <td>78</td>\n",
       "      <td>259500</td>\n",
       "      <td>male</td>\n",
       "      <td>5.414139</td>\n",
       "    </tr>\n",
       "    <tr>\n",
       "      <th>...</th>\n",
       "      <td>...</td>\n",
       "      <td>...</td>\n",
       "      <td>...</td>\n",
       "      <td>...</td>\n",
       "    </tr>\n",
       "    <tr>\n",
       "      <th>ZACKARY IRANI</th>\n",
       "      <td>58</td>\n",
       "      <td>360103</td>\n",
       "      <td>male</td>\n",
       "      <td>5.556428</td>\n",
       "    </tr>\n",
       "    <tr>\n",
       "      <th>ZAHID AFZAL</th>\n",
       "      <td>62</td>\n",
       "      <td>0</td>\n",
       "      <td>male</td>\n",
       "      <td>0.000000</td>\n",
       "    </tr>\n",
       "    <tr>\n",
       "      <th>ZENA SRIVATSA ARNOLD</th>\n",
       "      <td>46</td>\n",
       "      <td>189960</td>\n",
       "      <td>female</td>\n",
       "      <td>5.278664</td>\n",
       "    </tr>\n",
       "    <tr>\n",
       "      <th>ZENON S. NIE</th>\n",
       "      <td>73</td>\n",
       "      <td>202703</td>\n",
       "      <td>male</td>\n",
       "      <td>5.306862</td>\n",
       "    </tr>\n",
       "    <tr>\n",
       "      <th>ZHONGLI LIU</th>\n",
       "      <td>64</td>\n",
       "      <td>7043</td>\n",
       "      <td>male</td>\n",
       "      <td>3.847819</td>\n",
       "    </tr>\n",
       "  </tbody>\n",
       "</table>\n",
       "<p>5421 rows × 4 columns</p>\n",
       "</div>"
      ],
      "text/plain": [
       "                      age  compensation  gender  log_compensation\n",
       "NAME                                                             \n",
       "A. CATHERINE NGO       64       1006154  female          6.002665\n",
       "A. EUGENE WASHINGTON   70        324871    male          5.511712\n",
       "A. F. PETROCELLI       80         47000    male          4.672107\n",
       "A. FARAZ ABBASI        52        113631    male          5.055501\n",
       "A. LARRY CHAPMAN       78        259500    male          5.414139\n",
       "...                   ...           ...     ...               ...\n",
       "ZACKARY IRANI          58        360103    male          5.556428\n",
       "ZAHID AFZAL            62             0    male          0.000000\n",
       "ZENA SRIVATSA ARNOLD   46        189960  female          5.278664\n",
       "ZENON S. NIE           73        202703    male          5.306862\n",
       "ZHONGLI LIU            64          7043    male          3.847819\n",
       "\n",
       "[5421 rows x 4 columns]"
      ]
     },
     "execution_count": 6,
     "metadata": {},
     "output_type": "execute_result"
    }
   ],
   "source": [
    "import numpy as np\n",
    "compensation_and_demographics_raw = pandas.read_csv('director-details.csv')\n",
    "compensation_and_demographics_raw['NAME'] = compensation_and_demographics_raw.name.str.upper()\n",
    "\n",
    "def most_common(series):\n",
    "    mode_values = series.mode()\n",
    "    if len(mode_values) > 0:\n",
    "        return mode_values[0]\n",
    "    return None\n",
    "    \n",
    "compensation_and_demographics = pandas.DataFrame({\n",
    "    'age': compensation_and_demographics_raw.groupby('NAME').age.max(),\n",
    "    'compensation': compensation_and_demographics_raw.groupby('NAME').compensation.sum(),\n",
    "    'gender': compensation_and_demographics_raw.groupby('NAME').gender.agg(most_common)\n",
    "})\n",
    "# Fix 1: Handle missing values after grouping\n",
    "compensation_and_demographics['gender'].fillna('Unknown', inplace=True)\n",
    "compensation_and_demographics['compensation'].fillna(0, inplace=True)\n",
    "compensation_and_demographics['age'].fillna(compensation_and_demographics['age'].median(), inplace=True)\n",
    "\n",
    "  \n",
    "#Fix 2:\n",
    "compensation_and_demographics['log_compensation'] = np.log10(1 + compensation_and_demographics['compensation'])\n",
    "\n",
    "compensation_and_demographics\n"
   ]
  },
  {
   "cell_type": "markdown",
   "id": "1a33ef5a-95e2-40ef-b529-6b3e4d5c9586",
   "metadata": {},
   "source": [
    "####  Fix 1: Handle missing values in demographic data\n",
    "\n",
    "**Issue:** Some directors have missing `gender`, `age`, or `compensation` values after grouping, which can break visualisations or log transforms.\n",
    "\n",
    "**Fix:** Filled missing values after grouping:\n",
    "\n",
    "```python\n",
    "compensation_and_demographics['gender'].fillna('Unknown', inplace=True)\n",
    "compensation_and_demographics['compensation'].fillna(0, inplace=True)\n",
    "compensation_and_demographics['age'].fillna(compensation_and_demographics['age'].median(), inplace=True)\n"
   ]
  },
  {
   "cell_type": "markdown",
   "id": "eb1670b2-94ab-4acc-a4a8-a23c4f6e25cd",
   "metadata": {},
   "source": [
    "###### Fix 2: Inefficient use of `math.log10` on Series\n",
    "\n",
    "**Issue:** Used `math.log10` with `.map()` to calculate log compensation, which is inefficient and error-prone with missing values.\n",
    "\n",
    "**Fix:** Switched to `numpy.log10` for safe, vectorized computation:\n",
    "\n",
    "```python\n",
    "import numpy as np\n",
    "compensation_and_demographics['log_compensation'] = np.log10(1 + compensation_and_demographics['compensation'])\n"
   ]
  },
  {
   "cell_type": "code",
   "execution_count": 8,
   "id": "f29c9d82-a402-491a-9cd9-0a3a5db8983e",
   "metadata": {},
   "outputs": [
    {
     "data": {
      "text/plain": [
       "gender\n",
       "male       3850\n",
       "female     1550\n",
       "None         19\n",
       "unknown       2\n",
       "Name: count, dtype: int64"
      ]
     },
     "execution_count": 8,
     "metadata": {},
     "output_type": "execute_result"
    }
   ],
   "source": [
    "compensation_and_demographics.gender.value_counts(dropna=False)"
   ]
  },
  {
   "cell_type": "code",
   "execution_count": 10,
   "id": "1d74aaa8-573a-4693-9bb3-7a9ef40299cf",
   "metadata": {},
   "outputs": [
    {
     "data": {
      "text/plain": [
       "director_name\n",
       "A CHARLENE SULLIVAN, PH.D.     1\n",
       "MICHAEL L. KUTA                1\n",
       "MICHAEL L. LARUSSO             1\n",
       "MICHAEL L. MILLER              1\n",
       "MICHAEL L. OWENS               1\n",
       "                              ..\n",
       "MARTIN L. FLANAGAN            13\n",
       "ANN BARNETT STERN             13\n",
       "TERESA M. RESSEL              13\n",
       "BRUCE L. CROCKETT             13\n",
       "ALBERT R. DOWDEN              14\n",
       "Name: company_name, Length: 11827, dtype: int64"
      ]
     },
     "execution_count": 10,
     "metadata": {},
     "output_type": "execute_result"
    }
   ],
   "source": [
    "# Fix 3: Make directorship count clearer\n",
    "directorship_counts = (\n",
    "    df.groupby('director_name')['company_name']  #directorship_counts = df.groupby('director_name').company_name.nunique().sort_values()\n",
    "    .nunique()\n",
    "    .sort_values(ascending=False)\n",
    ")\n",
    "\n",
    "directorship_counts"
   ]
  },
  {
   "cell_type": "markdown",
   "id": "287b8aed-8edd-42ef-9880-93467ea74c71",
   "metadata": {},
   "source": [
    "####  Fix 3: Unclear groupby chaining\n",
    "\n",
    "**Issue:** The original groupby call was hard to read and undocumented.\n",
    " -\"directorship_counts = df.groupby('director_name').company_name.nunique().sort_values()\"(initial code)\n",
    "**Fix:** Rewrote it more clearly using parentheses and added a comment:\n",
    "\n",
    "```python\n",
    "directorship_counts = (\n",
    "    df.groupby('director_name')['company_name']\n",
    "    .nunique()\n",
    "    .sort_values(ascending=False)\n",
    ")\n"
   ]
  },
  {
   "cell_type": "code",
   "execution_count": 12,
   "id": "44fd1247-353f-401d-be96-67167fcff5f8",
   "metadata": {},
   "outputs": [
    {
     "data": {
      "text/plain": [
       "<Axes: xlabel='company_name'>"
      ]
     },
     "execution_count": 12,
     "metadata": {},
     "output_type": "execute_result"
    },
    {
     "data": {
      "image/png": "[encoded data removed]",
      "text/plain": [
       "<Figure size 640x480 with 1 Axes>"
      ]
     },
     "metadata": {},
     "output_type": "display_data"
    }
   ],
   "source": [
    "directorship_counts.value_counts().sort_index().map(math.log10).plot()"
   ]
  },
  {
   "cell_type": "markdown",
   "id": "999dd485-d665-4624-b3d7-cbcc3d336097",
   "metadata": {},
   "source": [
    "Building the Network\n",
    "We constructed a graph connecting directors based on shared company boards.\n"
   ]
  },
  {
   "cell_type": "code",
   "execution_count": 15,
   "id": "b5e3f6e1-b9bf-4ad5-8c17-396bc1ca1cbd",
   "metadata": {},
   "outputs": [],
   "source": [
    "import networkx\n",
    "import networkx.algorithms\n",
    "graph = networkx.Graph()"
   ]
  },
  {
   "cell_type": "code",
   "execution_count": 17,
   "id": "4b18759f-11e7-4097-a5ce-2f31efe74257",
   "metadata": {},
   "outputs": [],
   "source": [
    "people = []\n",
    "companies = []\n",
    "for company_name, director_name in zip(df.company_name, df.director_name):\n",
    "    graph.add_edge(company_name, director_name)\n",
    "    people.append(director_name)\n",
    "    companies.append(company_name)"
   ]
  },
  {
   "cell_type": "code",
   "execution_count": 19,
   "id": "ba07222c-8f1d-44fe-a22e-2b518d37606c",
   "metadata": {},
   "outputs": [],
   "source": [
    "biggest_connected_graph = graph.subgraph(list(networkx.connected_components(graph))[0])"
   ]
  },
  {
   "cell_type": "markdown",
   "id": "baf9d722-6348-456b-8363-4a408e1bb191",
   "metadata": {},
   "source": [
    "###  Task 1 – Centrality Extension and Interpretation\n",
    "\n",
    "In this analysis, we are identifying influential directors using several centrality measures from network theory. These help us detect which individuals are best positioned to connect our venture-backed company with large US-based firms.\n",
    "\n",
    "We use the following centrality measures:\n",
    "\n",
    "---\n",
    "\n",
    "#### Degree Centrality\n",
    "\n",
    "- Measures the **number of direct connections** a node has.\n",
    "- For a director, high degree centrality means they sit on **many boards** and are **well-connected**.\n",
    "- This is useful because well-connected directors may have more reach and visibility across industries.\n",
    "\n",
    "---\n",
    "\n",
    "#### Eigenvector Centrality\n",
    "\n",
    "- Measures **influence** based on the importance of one’s connections.\n",
    "- A director with high eigenvector centrality is not just connected, but is connected to **other influential directors or companies**.\n",
    "- These people can be influential in shaping strategic decisions and industry movements.\n",
    "\n",
    "---\n",
    "\n",
    "####  Betweenness Centrality\n",
    "\n",
    "- Measures how often a node lies on the **shortest path** between other nodes.\n",
    "- Directors with high betweenness act as **brokers** or **bridges** between otherwise unconnected groups.\n",
    "- They are important because they can **connect our target company with external networks**, including US acquirers.\n",
    "\n",
    "---\n",
    "\n",
    "####  Closeness Centrality (Newly Added)\n",
    "\n",
    "- Measures how **close** a node is to all others in the network.\n",
    "- A director with high closeness can reach any other person **more quickly**, making them efficient communicators.\n",
    "- This is useful in our context, as they may **rapidly spread influence** or help coordinate between disconnected companies.\n",
    "\n",
    "---\n",
    "\n",
    "By combining these centrality measures, we can better identify which directors are most valuable to focus on when trying to make high-value connections.\n"
   ]
  },
  {
   "cell_type": "code",
   "execution_count": 23,
   "id": "b6ac9a66-827b-49bf-83c9-9bcedec73a09",
   "metadata": {},
   "outputs": [
    {
     "name": "stdout",
     "output_type": "stream",
     "text": [
      "CPU times: total: 13min 45s\n",
      "Wall time: 14min 42s\n"
     ]
    }
   ],
   "source": [
    "%%time\n",
    "centrality = pandas.DataFrame({\n",
    "    'eigen': pandas.Series(networkx.eigenvector_centrality(biggest_connected_graph)),\n",
    "    'degree': pandas.Series(networkx.algorithms.degree_centrality(biggest_connected_graph)),\n",
    "     'betweenness': pandas.Series(networkx.betweenness_centrality(biggest_connected_graph)),\n",
    "    \n",
    "})\n",
    "\n",
    "# Fix 4: View top influencers\n",
    "centrality.sort_values(by='eigen', ascending=False).head(10)\n",
    "\n",
    "centrality['is_person'] = centrality.index.map(lambda x: x in people)"
   ]
  },
  {
   "cell_type": "markdown",
   "id": "9b5afce0-a806-4228-9985-7b5090346356",
   "metadata": {},
   "source": [
    "####  Fix 4: Centrality not visualised or ranked\n",
    "\n",
    "**Issue:** Centrality metrics were calculated but never inspected.\n",
    "\n",
    "**Fix:** Added sorting to show the most central directors by eigenvector:\n",
    "\n",
    "```python\n",
    "centrality.sort_values(by='eigen', ascending=False).head(10)\n"
   ]
  },
  {
   "cell_type": "code",
   "execution_count": 47,
   "id": "8cbb88d7-4581-4d52-b603-5f189e3de905",
   "metadata": {},
   "outputs": [],
   "source": [
    "#Add closeness similarity\n",
    "centrality['closeness'] = pandas.Series(\n",
    "    networkx.closeness_centrality(biggest_connected_graph)\n",
    ")\n"
   ]
  },
  {
   "cell_type": "code",
   "execution_count": 25,
   "id": "9e374096-f944-45a9-99b1-911fdeadd4c4",
   "metadata": {},
   "outputs": [],
   "source": [
    "people_df = centrality[centrality.is_person].merge(compensation_and_demographics, left_index=True, right_index=True)"
   ]
  },
  {
   "cell_type": "code",
   "execution_count": 26,
   "id": "2ee556f1-50a3-4c7c-a2da-3e6985a9d1a3",
   "metadata": {},
   "outputs": [
    {
     "data": {
      "text/html": [
       "<div>\n",
       "<style scoped>\n",
       "    .dataframe tbody tr th:only-of-type {\n",
       "        vertical-align: middle;\n",
       "    }\n",
       "\n",
       "    .dataframe tbody tr th {\n",
       "        vertical-align: top;\n",
       "    }\n",
       "\n",
       "    .dataframe thead th {\n",
       "        text-align: right;\n",
       "    }\n",
       "</style>\n",
       "<table border=\"1\" class=\"dataframe\">\n",
       "  <thead>\n",
       "    <tr style=\"text-align: right;\">\n",
       "      <th></th>\n",
       "      <th>eigen</th>\n",
       "      <th>degree</th>\n",
       "      <th>betweenness</th>\n",
       "      <th>is_person</th>\n",
       "      <th>closeness</th>\n",
       "      <th>age</th>\n",
       "      <th>compensation</th>\n",
       "      <th>gender</th>\n",
       "      <th>log_compensation</th>\n",
       "    </tr>\n",
       "  </thead>\n",
       "  <tbody>\n",
       "    <tr>\n",
       "      <th>ELIZABETH KRENTZMAN</th>\n",
       "      <td>1.024389e-01</td>\n",
       "      <td>0.001585</td>\n",
       "      <td>1.394057e-07</td>\n",
       "      <td>True</td>\n",
       "      <td>0.064099</td>\n",
       "      <td>65</td>\n",
       "      <td>3408245</td>\n",
       "      <td>female</td>\n",
       "      <td>6.532531</td>\n",
       "    </tr>\n",
       "    <tr>\n",
       "      <th>CAROL DECKBAR</th>\n",
       "      <td>1.024389e-01</td>\n",
       "      <td>0.001585</td>\n",
       "      <td>1.394057e-07</td>\n",
       "      <td>True</td>\n",
       "      <td>0.064099</td>\n",
       "      <td>62</td>\n",
       "      <td>43263</td>\n",
       "      <td>female</td>\n",
       "      <td>4.636127</td>\n",
       "    </tr>\n",
       "    <tr>\n",
       "      <th>ELI JONES</th>\n",
       "      <td>1.024389e-01</td>\n",
       "      <td>0.001585</td>\n",
       "      <td>1.394057e-07</td>\n",
       "      <td>True</td>\n",
       "      <td>0.064099</td>\n",
       "      <td>63</td>\n",
       "      <td>3063255</td>\n",
       "      <td>male</td>\n",
       "      <td>6.486183</td>\n",
       "    </tr>\n",
       "    <tr>\n",
       "      <th>DOUGLAS SHARP</th>\n",
       "      <td>1.024389e-01</td>\n",
       "      <td>0.001585</td>\n",
       "      <td>1.394057e-07</td>\n",
       "      <td>True</td>\n",
       "      <td>0.064099</td>\n",
       "      <td>50</td>\n",
       "      <td>0</td>\n",
       "      <td>male</td>\n",
       "      <td>0.000000</td>\n",
       "    </tr>\n",
       "    <tr>\n",
       "      <th>JAMES \"JIM\" LIDDY</th>\n",
       "      <td>1.024389e-01</td>\n",
       "      <td>0.001585</td>\n",
       "      <td>1.394057e-07</td>\n",
       "      <td>True</td>\n",
       "      <td>0.064099</td>\n",
       "      <td>65</td>\n",
       "      <td>27531</td>\n",
       "      <td>male</td>\n",
       "      <td>4.439838</td>\n",
       "    </tr>\n",
       "    <tr>\n",
       "      <th>...</th>\n",
       "      <td>...</td>\n",
       "      <td>...</td>\n",
       "      <td>...</td>\n",
       "      <td>...</td>\n",
       "      <td>...</td>\n",
       "      <td>...</td>\n",
       "      <td>...</td>\n",
       "      <td>...</td>\n",
       "      <td>...</td>\n",
       "    </tr>\n",
       "    <tr>\n",
       "      <th>JOHN J. GEBBIA</th>\n",
       "      <td>8.400282e-35</td>\n",
       "      <td>0.000122</td>\n",
       "      <td>0.000000e+00</td>\n",
       "      <td>True</td>\n",
       "      <td>0.046436</td>\n",
       "      <td>86</td>\n",
       "      <td>120000</td>\n",
       "      <td>male</td>\n",
       "      <td>5.079185</td>\n",
       "    </tr>\n",
       "    <tr>\n",
       "      <th>ANDREW S. BORODACH</th>\n",
       "      <td>8.342633e-35</td>\n",
       "      <td>0.000122</td>\n",
       "      <td>0.000000e+00</td>\n",
       "      <td>True</td>\n",
       "      <td>0.046432</td>\n",
       "      <td>56</td>\n",
       "      <td>0</td>\n",
       "      <td>male</td>\n",
       "      <td>0.000000</td>\n",
       "    </tr>\n",
       "    <tr>\n",
       "      <th>LAWRENCE A. KOBRIN</th>\n",
       "      <td>8.342633e-35</td>\n",
       "      <td>0.000122</td>\n",
       "      <td>0.000000e+00</td>\n",
       "      <td>True</td>\n",
       "      <td>0.046432</td>\n",
       "      <td>91</td>\n",
       "      <td>30356</td>\n",
       "      <td>male</td>\n",
       "      <td>4.482259</td>\n",
       "    </tr>\n",
       "    <tr>\n",
       "      <th>NANCY J. FLOYD PRUE</th>\n",
       "      <td>8.342633e-35</td>\n",
       "      <td>0.000122</td>\n",
       "      <td>0.000000e+00</td>\n",
       "      <td>True</td>\n",
       "      <td>0.046432</td>\n",
       "      <td>70</td>\n",
       "      <td>50356</td>\n",
       "      <td>female</td>\n",
       "      <td>4.702060</td>\n",
       "    </tr>\n",
       "    <tr>\n",
       "      <th>RICHARD P. HOWARD</th>\n",
       "      <td>8.342633e-35</td>\n",
       "      <td>0.000122</td>\n",
       "      <td>0.000000e+00</td>\n",
       "      <td>True</td>\n",
       "      <td>0.046432</td>\n",
       "      <td>78</td>\n",
       "      <td>0</td>\n",
       "      <td>male</td>\n",
       "      <td>0.000000</td>\n",
       "    </tr>\n",
       "  </tbody>\n",
       "</table>\n",
       "<p>3742 rows × 9 columns</p>\n",
       "</div>"
      ],
      "text/plain": [
       "                            eigen    degree   betweenness  is_person  \\\n",
       "ELIZABETH KRENTZMAN  1.024389e-01  0.001585  1.394057e-07       True   \n",
       "CAROL DECKBAR        1.024389e-01  0.001585  1.394057e-07       True   \n",
       "ELI JONES            1.024389e-01  0.001585  1.394057e-07       True   \n",
       "DOUGLAS SHARP        1.024389e-01  0.001585  1.394057e-07       True   \n",
       "JAMES \"JIM\" LIDDY    1.024389e-01  0.001585  1.394057e-07       True   \n",
       "...                           ...       ...           ...        ...   \n",
       "JOHN J. GEBBIA       8.400282e-35  0.000122  0.000000e+00       True   \n",
       "ANDREW S. BORODACH   8.342633e-35  0.000122  0.000000e+00       True   \n",
       "LAWRENCE A. KOBRIN   8.342633e-35  0.000122  0.000000e+00       True   \n",
       "NANCY J. FLOYD PRUE  8.342633e-35  0.000122  0.000000e+00       True   \n",
       "RICHARD P. HOWARD    8.342633e-35  0.000122  0.000000e+00       True   \n",
       "\n",
       "                     closeness  age  compensation  gender  log_compensation  \n",
       "ELIZABETH KRENTZMAN   0.064099   65       3408245  female          6.532531  \n",
       "CAROL DECKBAR         0.064099   62         43263  female          4.636127  \n",
       "ELI JONES             0.064099   63       3063255    male          6.486183  \n",
       "DOUGLAS SHARP         0.064099   50             0    male          0.000000  \n",
       "JAMES \"JIM\" LIDDY     0.064099   65         27531    male          4.439838  \n",
       "...                        ...  ...           ...     ...               ...  \n",
       "JOHN J. GEBBIA        0.046436   86        120000    male          5.079185  \n",
       "ANDREW S. BORODACH    0.046432   56             0    male          0.000000  \n",
       "LAWRENCE A. KOBRIN    0.046432   91         30356    male          4.482259  \n",
       "NANCY J. FLOYD PRUE   0.046432   70         50356  female          4.702060  \n",
       "RICHARD P. HOWARD     0.046432   78             0    male          0.000000  \n",
       "\n",
       "[3742 rows x 9 columns]"
      ]
     },
     "execution_count": 26,
     "metadata": {},
     "output_type": "execute_result"
    }
   ],
   "source": [
    "people_df.sort_values('eigen', ascending=False)"
   ]
  },
  {
   "cell_type": "code",
   "execution_count": 27,
   "id": "f0937be4-f460-4959-81a5-b7737898d905",
   "metadata": {},
   "outputs": [
    {
     "data": {
      "text/html": [
       "<div>\n",
       "<style scoped>\n",
       "    .dataframe tbody tr th:only-of-type {\n",
       "        vertical-align: middle;\n",
       "    }\n",
       "\n",
       "    .dataframe tbody tr th {\n",
       "        vertical-align: top;\n",
       "    }\n",
       "\n",
       "    .dataframe thead th {\n",
       "        text-align: right;\n",
       "    }\n",
       "</style>\n",
       "<table border=\"1\" class=\"dataframe\">\n",
       "  <thead>\n",
       "    <tr style=\"text-align: right;\">\n",
       "      <th></th>\n",
       "      <th>company_name</th>\n",
       "      <th>cikcode</th>\n",
       "      <th>director_name</th>\n",
       "      <th>software_background</th>\n",
       "      <th>start_date</th>\n",
       "      <th>end_date</th>\n",
       "    </tr>\n",
       "  </thead>\n",
       "  <tbody>\n",
       "    <tr>\n",
       "      <th>6297</th>\n",
       "      <td>Invesco Advantage Municipal Income Trust II</td>\n",
       "      <td>908993</td>\n",
       "      <td>ELIZABETH KRENTZMAN</td>\n",
       "      <td>False</td>\n",
       "      <td>2021-06-22</td>\n",
       "      <td>2024-07-02</td>\n",
       "    </tr>\n",
       "    <tr>\n",
       "      <th>6352</th>\n",
       "      <td>Invesco Bond Fund</td>\n",
       "      <td>5094</td>\n",
       "      <td>ELIZABETH KRENTZMAN</td>\n",
       "      <td>False</td>\n",
       "      <td>2021-06-22</td>\n",
       "      <td>2024-07-02</td>\n",
       "    </tr>\n",
       "    <tr>\n",
       "      <th>6407</th>\n",
       "      <td>Invesco California Value Municipal Income Trust</td>\n",
       "      <td>895531</td>\n",
       "      <td>ELIZABETH KRENTZMAN</td>\n",
       "      <td>False</td>\n",
       "      <td>2021-06-22</td>\n",
       "      <td>2024-07-02</td>\n",
       "    </tr>\n",
       "    <tr>\n",
       "      <th>6462</th>\n",
       "      <td>Invesco High Income Trust II</td>\n",
       "      <td>846671</td>\n",
       "      <td>ELIZABETH KRENTZMAN</td>\n",
       "      <td>False</td>\n",
       "      <td>2021-06-22</td>\n",
       "      <td>2024-07-02</td>\n",
       "    </tr>\n",
       "    <tr>\n",
       "      <th>6512</th>\n",
       "      <td>Invesco Municipal Income Opportunities Trust</td>\n",
       "      <td>835333</td>\n",
       "      <td>ELIZABETH KRENTZMAN</td>\n",
       "      <td>False</td>\n",
       "      <td>2021-06-22</td>\n",
       "      <td>2024-07-02</td>\n",
       "    </tr>\n",
       "    <tr>\n",
       "      <th>6546</th>\n",
       "      <td>Invesco Municipal Opportunity Trust</td>\n",
       "      <td>884152</td>\n",
       "      <td>ELIZABETH KRENTZMAN</td>\n",
       "      <td>False</td>\n",
       "      <td>2021-06-22</td>\n",
       "      <td>2024-07-02</td>\n",
       "    </tr>\n",
       "    <tr>\n",
       "      <th>6601</th>\n",
       "      <td>Invesco Municipal Trust</td>\n",
       "      <td>877463</td>\n",
       "      <td>ELIZABETH KRENTZMAN</td>\n",
       "      <td>False</td>\n",
       "      <td>2021-06-22</td>\n",
       "      <td>2024-07-02</td>\n",
       "    </tr>\n",
       "    <tr>\n",
       "      <th>6656</th>\n",
       "      <td>Invesco Pennsylvania Value Municipal Income Trust</td>\n",
       "      <td>895528</td>\n",
       "      <td>ELIZABETH KRENTZMAN</td>\n",
       "      <td>False</td>\n",
       "      <td>2021-06-22</td>\n",
       "      <td>2024-07-02</td>\n",
       "    </tr>\n",
       "    <tr>\n",
       "      <th>6706</th>\n",
       "      <td>Invesco Quality Municipal Income Trust</td>\n",
       "      <td>885125</td>\n",
       "      <td>ELIZABETH KRENTZMAN</td>\n",
       "      <td>False</td>\n",
       "      <td>2021-06-22</td>\n",
       "      <td>2024-07-02</td>\n",
       "    </tr>\n",
       "    <tr>\n",
       "      <th>6740</th>\n",
       "      <td>Invesco Senior Income Trust</td>\n",
       "      <td>1059386</td>\n",
       "      <td>ELIZABETH KRENTZMAN</td>\n",
       "      <td>False</td>\n",
       "      <td>2021-06-22</td>\n",
       "      <td>2024-07-02</td>\n",
       "    </tr>\n",
       "    <tr>\n",
       "      <th>6793</th>\n",
       "      <td>Invesco Trust for Investment Grade Municipals</td>\n",
       "      <td>880892</td>\n",
       "      <td>ELIZABETH KRENTZMAN</td>\n",
       "      <td>False</td>\n",
       "      <td>2021-06-22</td>\n",
       "      <td>2024-07-02</td>\n",
       "    </tr>\n",
       "    <tr>\n",
       "      <th>6848</th>\n",
       "      <td>Invesco Trust for Investment Grade New York Mu...</td>\n",
       "      <td>883265</td>\n",
       "      <td>ELIZABETH KRENTZMAN</td>\n",
       "      <td>False</td>\n",
       "      <td>2021-06-22</td>\n",
       "      <td>2024-07-02</td>\n",
       "    </tr>\n",
       "    <tr>\n",
       "      <th>6898</th>\n",
       "      <td>Invesco Value Municipal Income Trust</td>\n",
       "      <td>885601</td>\n",
       "      <td>ELIZABETH KRENTZMAN</td>\n",
       "      <td>False</td>\n",
       "      <td>2021-06-22</td>\n",
       "      <td>2024-07-02</td>\n",
       "    </tr>\n",
       "  </tbody>\n",
       "</table>\n",
       "</div>"
      ],
      "text/plain": [
       "                                           company_name  cikcode  \\\n",
       "6297        Invesco Advantage Municipal Income Trust II   908993   \n",
       "6352                                  Invesco Bond Fund     5094   \n",
       "6407    Invesco California Value Municipal Income Trust   895531   \n",
       "6462                       Invesco High Income Trust II   846671   \n",
       "6512       Invesco Municipal Income Opportunities Trust   835333   \n",
       "6546                Invesco Municipal Opportunity Trust   884152   \n",
       "6601                            Invesco Municipal Trust   877463   \n",
       "6656  Invesco Pennsylvania Value Municipal Income Trust   895528   \n",
       "6706             Invesco Quality Municipal Income Trust   885125   \n",
       "6740                        Invesco Senior Income Trust  1059386   \n",
       "6793      Invesco Trust for Investment Grade Municipals   880892   \n",
       "6848  Invesco Trust for Investment Grade New York Mu...   883265   \n",
       "6898               Invesco Value Municipal Income Trust   885601   \n",
       "\n",
       "            director_name  software_background  start_date    end_date  \n",
       "6297  ELIZABETH KRENTZMAN                False  2021-06-22  2024-07-02  \n",
       "6352  ELIZABETH KRENTZMAN                False  2021-06-22  2024-07-02  \n",
       "6407  ELIZABETH KRENTZMAN                False  2021-06-22  2024-07-02  \n",
       "6462  ELIZABETH KRENTZMAN                False  2021-06-22  2024-07-02  \n",
       "6512  ELIZABETH KRENTZMAN                False  2021-06-22  2024-07-02  \n",
       "6546  ELIZABETH KRENTZMAN                False  2021-06-22  2024-07-02  \n",
       "6601  ELIZABETH KRENTZMAN                False  2021-06-22  2024-07-02  \n",
       "6656  ELIZABETH KRENTZMAN                False  2021-06-22  2024-07-02  \n",
       "6706  ELIZABETH KRENTZMAN                False  2021-06-22  2024-07-02  \n",
       "6740  ELIZABETH KRENTZMAN                False  2021-06-22  2024-07-02  \n",
       "6793  ELIZABETH KRENTZMAN                False  2021-06-22  2024-07-02  \n",
       "6848  ELIZABETH KRENTZMAN                False  2021-06-22  2024-07-02  \n",
       "6898  ELIZABETH KRENTZMAN                False  2021-06-22  2024-07-02  "
      ]
     },
     "execution_count": 27,
     "metadata": {},
     "output_type": "execute_result"
    }
   ],
   "source": [
    "df[df.director_name == 'ELIZABETH KRENTZMAN']"
   ]
  },
  {
   "cell_type": "code",
   "execution_count": 28,
   "id": "45e5f84e-ecf1-491c-b0bc-a2532de0bc52",
   "metadata": {},
   "outputs": [],
   "source": [
    "import sklearn.cluster"
   ]
  },
  {
   "cell_type": "code",
   "execution_count": 29,
   "id": "25ef7ed7-b7df-4649-81be-ba066ff9cc9b",
   "metadata": {},
   "outputs": [],
   "source": [
    "import sklearn.preprocessing\n",
    "robust_scaler = sklearn.preprocessing.RobustScaler()\n",
    "age_and_demographics_scaled = robust_scaler.fit_transform(people_df[['age', 'log_compensation', 'degree', 'eigen']])\n"
   ]
  },
  {
   "cell_type": "code",
   "execution_count": 30,
   "id": "e3f75a42-4e69-4356-aaa8-70b0b4b16fc8",
   "metadata": {},
   "outputs": [
    {
     "data": {
      "text/plain": [
       "cluster_id\n",
       " 1    3117\n",
       " 0     385\n",
       " 2     109\n",
       "-1      72\n",
       " 3      24\n",
       " 4      19\n",
       " 7       8\n",
       " 6       5\n",
       " 5       3\n",
       "Name: count, dtype: int64"
      ]
     },
     "execution_count": 30,
     "metadata": {},
     "output_type": "execute_result"
    }
   ],
   "source": [
    "dbscan = sklearn.cluster.DBSCAN(eps=0.4)\n",
    "people_df['cluster_id'] = dbscan.fit_predict(age_and_demographics_scaled)\n",
    "people_df.cluster_id.value_counts()"
   ]
  },
  {
   "cell_type": "code",
   "execution_count": 31,
   "id": "68e8717b-a2fa-4c7b-987b-95e5f0e0358f",
   "metadata": {},
   "outputs": [
    {
     "data": {
      "text/plain": [
       "<Axes: xlabel='age', ylabel='log_compensation'>"
      ]
     },
     "execution_count": 31,
     "metadata": {},
     "output_type": "execute_result"
    },
    {
     "data": {
      "image/png": "[encoded data removed]",
      "text/plain": [
       "<Figure size 640x480 with 2 Axes>"
      ]
     },
     "metadata": {},
     "output_type": "display_data"
    }
   ],
   "source": [
    "people_df.plot.scatter(x='age', y='log_compensation', c='cluster_id', cmap=\"rainbow\", s=4)"
   ]
  },
  {
   "cell_type": "code",
   "execution_count": 32,
   "id": "282b9b61-9d9b-45a2-9b32-676a4e6d2d91",
   "metadata": {},
   "outputs": [
    {
     "data": {
      "text/plain": [
       "eigen               0.102439\n",
       "degree              0.001585\n",
       "betweenness              0.0\n",
       "is_person               True\n",
       "closeness           0.064099\n",
       "age                       65\n",
       "compensation         3408245\n",
       "gender                female\n",
       "log_compensation    6.532531\n",
       "cluster_id                 2\n",
       "Name: ELIZABETH KRENTZMAN, dtype: object"
      ]
     },
     "execution_count": 32,
     "metadata": {},
     "output_type": "execute_result"
    }
   ],
   "source": [
    "people_df.loc['ELIZABETH KRENTZMAN']"
   ]
  },
  {
   "cell_type": "markdown",
   "id": "2b157c42-584d-41fc-a745-0d25935b338c",
   "metadata": {},
   "source": [
    "### Task 3 – Explore an Unused Feature\n",
    "\n",
    "An interesting feature in the dataset that is not currently used in the analysis is the **`gender`** column.\n",
    "\n",
    "This field represents the gender of each director, but it is only aggregated (using `mode`) and not used in any meaningful way.\n",
    "\n",
    "**Why it’s interesting:**\n",
    "- We could explore **gender diversity on boards**, such as:\n",
    "  - Are female directors more or less central in the network?\n",
    "  - Do female directors tend to cluster in certain companies?\n",
    "  - Is there a difference in compensation based on gender?\n",
    "\n",
    "This could help uncover potential **biases or disparities** in corporate governance, which might be valuable for investor transparency and ethical investment strategies.\n"
   ]
  },
  {
   "cell_type": "code",
   "execution_count": 55,
   "id": "5b51c195-db04-4311-9eb0-4608bc11ed3b",
   "metadata": {},
   "outputs": [
    {
     "data": {
      "image/png": "[encoded data removed]",
      "text/plain": [
       "<Figure size 600x400 with 1 Axes>"
      ]
     },
     "metadata": {},
     "output_type": "display_data"
    }
   ],
   "source": [
    "#adding a quick plot to visualize gender balance \n",
    "import matplotlib.pyplot as plt\n",
    "\n",
    "# Plot gender distribution\n",
    "gender_counts = compensation_and_demographics['gender'].value_counts(dropna=False)\n",
    "\n",
    "plt.figure(figsize=(6, 4))\n",
    "gender_counts.plot(kind='bar', color='skyblue')\n",
    "plt.title('Board Director Gender Distribution')\n",
    "plt.xlabel('Gender')\n",
    "plt.ylabel('Number of Directors')\n",
    "plt.xticks(rotation=0)\n",
    "plt.tight_layout()\n",
    "plt.show()\n"
   ]
  },
  {
   "cell_type": "markdown",
   "id": "b59da55d-c098-4ff9-824a-d677debdaca4",
   "metadata": {},
   "source": [
    "### Gender Distribution of Board Directors\n",
    "\n",
    "To explore the unused `gender` feature, we visualised how many directors identify as each gender (including \"Unknown\").\n",
    "\n",
    "This sets the stage for future analysis into gender diversity on boards and whether it correlates with influence or compensation.\n"
   ]
  },
  {
   "cell_type": "markdown",
   "id": "b907fc6b-83b9-4a9f-b228-a9a8b2133b5a",
   "metadata": {},
   "source": [
    "### 🌍 Task 4 – Complementary Dataset\n",
    "\n",
    "**Dataset Used:**  \n",
    "📄 Forbes Global 2000 – 2022 Unified Industry (CSV)\n",
    "\n",
    "This dataset lists the top 2000 public companies in the world, including:\n",
    "- Company name\n",
    "- Country of headquarters\n",
    "- Industry\n",
    "- Sales, Profits, Assets\n",
    "- Market Value\n",
    "- Global Ranking\n",
    "\n",
    "**Why it complements our project:**\n",
    "- Our current dataset maps company directors and board affiliations but lacks context about which companies are **financially strong or US-based**.\n",
    "- By merging with this Forbes dataset, we can:\n",
    "  - Focus on directors connected to **high-value, US-listed firms**\n",
    "  - Prioritise companies that are **wealthy, large, and strategically positioned**\n",
    "  - Support the VC firm's goal of finding a **rich US-based acquirer** for the portfolio company\n",
    "\n",
    "This dataset adds financial weight to our network analysis and aligns directly with the business goal of identifying influential board members who can open doors to major US corporations.\n"
   ]
  }
 ],
 "metadata": {
  "kernelspec": {
   "display_name": "Python [conda env:base] *",
   "language": "python",
   "name": "conda-base-py"
  },
  "language_info": {
   "codemirror_mode": {
    "name": "ipython",
    "version": 3
   },
   "file_extension": ".py",
   "mimetype": "text/x-python",
   "name": "python",
   "nbconvert_exporter": "python",
   "pygments_lexer": "ipython3",
   "version": "3.12.7"
  }
 },
 "nbformat": 4,
 "nbformat_minor": 5
}
